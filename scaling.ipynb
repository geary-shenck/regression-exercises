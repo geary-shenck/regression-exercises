{
 "cells": [
  {
   "cell_type": "code",
   "execution_count": 1,
   "metadata": {},
   "outputs": [],
   "source": [
    "#import warnings\n",
    "#warnings.filterwarnings(\"ignore\")\n",
    "\n",
    "import pandas as pd\n",
    "import numpy as np\n",
    "import seaborn as sns\n",
    "import matplotlib.pyplot as plt\n",
    "\n",
    "import scipy\n",
    "import sklearn\n",
    "import sklearn.impute as simpleImputer\n",
    "from sklearn.model_selection import train_test_split\n",
    "from sklearn.neighbors import KNeighborsClassifier\n",
    "from sklearn.preprocessing import MinMaxScaler,StandardScaler,RobustScaler\n",
    "\n",
    "\n",
    "import acquire\n",
    "import env"
   ]
  },
  {
   "cell_type": "code",
   "execution_count": 2,
   "metadata": {},
   "outputs": [
    {
     "name": "stderr",
     "output_type": "stream",
     "text": [
      "/var/folders/c6/16b7dgw96t19zlzn79g4rd9r0000gn/T/ipykernel_25060/538056523.py:11: FutureWarning: null_counts is deprecated. Use show_counts instead\n",
      "  print(df0.info(null_counts=True))\n"
     ]
    },
    {
     "name": "stdout",
     "output_type": "stream",
     "text": [
      "<class 'pandas.core.frame.DataFrame'>\n",
      "Int64Index: 2152863 entries, 0 to 2152862\n",
      "Data columns (total 7 columns):\n",
      " #   Column                        Non-Null Count    Dtype  \n",
      "---  ------                        --------------    -----  \n",
      " 0   bedroomcnt                    2152852 non-null  float64\n",
      " 1   bathroomcnt                   2152852 non-null  float64\n",
      " 2   calculatedfinishedsquarefeet  2144379 non-null  float64\n",
      " 3   taxvaluedollarcnt             2152370 non-null  float64\n",
      " 4   yearbuilt                     2143526 non-null  float64\n",
      " 5   taxamount                     2148421 non-null  float64\n",
      " 6   fips                          2152863 non-null  float64\n",
      "dtypes: float64(7)\n",
      "memory usage: 131.4 MB\n",
      "None\n",
      "----------------------------\n",
      "bedrooms          11\n",
      "bathrooms         11\n",
      "area            8484\n",
      "tax_value        493\n",
      "year_built      9337\n",
      "taxes_yearly    4442\n",
      "fips               0\n",
      "dtype: int64 \n",
      " \t nulls prior to drop\n",
      "----------------------------\n",
      "bedrooms        0\n",
      "bathrooms       0\n",
      "area            0\n",
      "tax_value       0\n",
      "year_built      0\n",
      "taxes_yearly    0\n",
      "fips            0\n",
      "dtype: int64 \n",
      " \t nulls post drop\n",
      "----------------------------\n",
      "range of bedrooms : 25 (25.0 max - min 0.0)\n",
      "range of bathrooms : 32 (32.0 max - min 0.0)\n",
      "range of area : 952,575 (952,576.0 max - min 1.0)\n",
      "range of tax_value : 90,188,440 (90,188,462.0 max - min 22.0)\n",
      "range of year_built : 215 (2,016.0 max - min 1,801.0)\n",
      "range of taxes_yearly : 1,078,095 (1,078,101.87 max - min 6.34)\n",
      "range of fips : 74 (6,111.0 max - min 6,037.0)\n"
     ]
    },
    {
     "data": {
      "text/html": [
       "<div>\n",
       "<style scoped>\n",
       "    .dataframe tbody tr th:only-of-type {\n",
       "        vertical-align: middle;\n",
       "    }\n",
       "\n",
       "    .dataframe tbody tr th {\n",
       "        vertical-align: top;\n",
       "    }\n",
       "\n",
       "    .dataframe thead th {\n",
       "        text-align: right;\n",
       "    }\n",
       "</style>\n",
       "<table border=\"1\" class=\"dataframe\">\n",
       "  <thead>\n",
       "    <tr style=\"text-align: right;\">\n",
       "      <th></th>\n",
       "      <th>count</th>\n",
       "      <th>mean</th>\n",
       "      <th>std</th>\n",
       "      <th>min</th>\n",
       "      <th>25%</th>\n",
       "      <th>50%</th>\n",
       "      <th>75%</th>\n",
       "      <th>max</th>\n",
       "    </tr>\n",
       "  </thead>\n",
       "  <tbody>\n",
       "    <tr>\n",
       "      <th>bedrooms</th>\n",
       "      <td>2140235.0</td>\n",
       "      <td>3.301419</td>\n",
       "      <td>0.932600</td>\n",
       "      <td>0.00</td>\n",
       "      <td>3.00</td>\n",
       "      <td>3.00</td>\n",
       "      <td>4.00</td>\n",
       "      <td>25.00</td>\n",
       "    </tr>\n",
       "    <tr>\n",
       "      <th>bathrooms</th>\n",
       "      <td>2140235.0</td>\n",
       "      <td>2.240352</td>\n",
       "      <td>0.990549</td>\n",
       "      <td>0.00</td>\n",
       "      <td>2.00</td>\n",
       "      <td>2.00</td>\n",
       "      <td>3.00</td>\n",
       "      <td>32.00</td>\n",
       "    </tr>\n",
       "    <tr>\n",
       "      <th>area</th>\n",
       "      <td>2140235.0</td>\n",
       "      <td>1863.193970</td>\n",
       "      <td>1221.754161</td>\n",
       "      <td>1.00</td>\n",
       "      <td>1258.00</td>\n",
       "      <td>1623.00</td>\n",
       "      <td>2208.00</td>\n",
       "      <td>952576.00</td>\n",
       "    </tr>\n",
       "    <tr>\n",
       "      <th>tax_value</th>\n",
       "      <td>2140235.0</td>\n",
       "      <td>460641.625164</td>\n",
       "      <td>677157.635675</td>\n",
       "      <td>22.00</td>\n",
       "      <td>189166.00</td>\n",
       "      <td>328296.00</td>\n",
       "      <td>534606.00</td>\n",
       "      <td>90188462.00</td>\n",
       "    </tr>\n",
       "    <tr>\n",
       "      <th>year_built</th>\n",
       "      <td>2140235.0</td>\n",
       "      <td>1960.967545</td>\n",
       "      <td>22.150563</td>\n",
       "      <td>1801.00</td>\n",
       "      <td>1949.00</td>\n",
       "      <td>1958.00</td>\n",
       "      <td>1976.00</td>\n",
       "      <td>2016.00</td>\n",
       "    </tr>\n",
       "    <tr>\n",
       "      <th>taxes_yearly</th>\n",
       "      <td>2140235.0</td>\n",
       "      <td>5616.711322</td>\n",
       "      <td>7814.562798</td>\n",
       "      <td>6.34</td>\n",
       "      <td>2540.85</td>\n",
       "      <td>4111.47</td>\n",
       "      <td>6411.93</td>\n",
       "      <td>1078101.87</td>\n",
       "    </tr>\n",
       "    <tr>\n",
       "      <th>fips</th>\n",
       "      <td>2140235.0</td>\n",
       "      <td>6048.309556</td>\n",
       "      <td>20.344910</td>\n",
       "      <td>6037.00</td>\n",
       "      <td>6037.00</td>\n",
       "      <td>6037.00</td>\n",
       "      <td>6059.00</td>\n",
       "      <td>6111.00</td>\n",
       "    </tr>\n",
       "  </tbody>\n",
       "</table>\n",
       "</div>"
      ],
      "text/plain": [
       "                  count           mean            std      min        25%  \\\n",
       "bedrooms      2140235.0       3.301419       0.932600     0.00       3.00   \n",
       "bathrooms     2140235.0       2.240352       0.990549     0.00       2.00   \n",
       "area          2140235.0    1863.193970    1221.754161     1.00    1258.00   \n",
       "tax_value     2140235.0  460641.625164  677157.635675    22.00  189166.00   \n",
       "year_built    2140235.0    1960.967545      22.150563  1801.00    1949.00   \n",
       "taxes_yearly  2140235.0    5616.711322    7814.562798     6.34    2540.85   \n",
       "fips          2140235.0    6048.309556      20.344910  6037.00    6037.00   \n",
       "\n",
       "                    50%        75%          max  \n",
       "bedrooms           3.00       4.00        25.00  \n",
       "bathrooms          2.00       3.00        32.00  \n",
       "area            1623.00    2208.00    952576.00  \n",
       "tax_value     328296.00  534606.00  90188462.00  \n",
       "year_built      1958.00    1976.00      2016.00  \n",
       "taxes_yearly    4111.47    6411.93   1078101.87  \n",
       "fips            6037.00    6059.00      6111.00  "
      ]
     },
     "execution_count": 2,
     "metadata": {},
     "output_type": "execute_result"
    }
   ],
   "source": [
    "# get the data and review the data\n",
    "\n",
    "#fips is a unique identifier published by the usda.gov\n",
    "#06037\tLos Angeles\tCA\n",
    "#06059\tOrange\tCA\n",
    "#06111\tVentura\tCA\n",
    "\n",
    "df0 = acquire.get_zillow_single_fam()\n",
    "\n",
    "## datatypes look good with 2,152,863 records\n",
    "print(df0.info(null_counts=True)) \n",
    "print(\"----------------------------\")\n",
    "\n",
    "## start the clean up\n",
    "## remove cells with whitespace and replace with NaN in a new working dataframe\n",
    "\n",
    "df = df0.replace(r'^\\s*$', np.nan, regex=True)\n",
    "df = df.rename(columns = {\"bedroomcnt\":\"bedrooms\",\n",
    "                            \"bathroomcnt\":\"bathrooms\",\n",
    "                            \"calculatedfinishedsquarefeet\":\"area\",\n",
    "                            \"taxvaluedollarcnt\":\"tax_value\",\n",
    "                            \"taxamount\":\"taxes_yearly\",\n",
    "                            \"yearbuilt\":\"year_built\"\n",
    "                            })\n",
    "\n",
    "\n",
    "## drop n/a and review\n",
    "print(df.isnull().sum(), \"\\n \\t nulls prior to drop\")\n",
    "print(\"----------------------------\")\n",
    "\n",
    "df = df.dropna()\n",
    "\n",
    "print(df.isnull().sum(), \"\\n \\t nulls post drop\")\n",
    "print(\"----------------------------\")\n",
    "\n",
    "\n",
    "##ranges on these look very crazy, diving deeper\n",
    "for col in df.columns:\n",
    "    print(\"range of\",col, \": {:,}\".format((df[col].describe()[\"max\"] - df[col].describe()[\"min\"]).astype(int)), \"({:,}\".format(df[col].describe()[\"max\"]), \"max - min {:,})\".format(df[col].describe()[\"min\"]))\n",
    "\n",
    "# 2,140,235 records\n",
    "df.describe().T"
   ]
  },
  {
   "cell_type": "code",
   "execution_count": 3,
   "metadata": {},
   "outputs": [
    {
     "data": {
      "text/html": [
       "<div>\n",
       "<style scoped>\n",
       "    .dataframe tbody tr th:only-of-type {\n",
       "        vertical-align: middle;\n",
       "    }\n",
       "\n",
       "    .dataframe tbody tr th {\n",
       "        vertical-align: top;\n",
       "    }\n",
       "\n",
       "    .dataframe thead th {\n",
       "        text-align: right;\n",
       "    }\n",
       "</style>\n",
       "<table border=\"1\" class=\"dataframe\">\n",
       "  <thead>\n",
       "    <tr style=\"text-align: right;\">\n",
       "      <th></th>\n",
       "      <th>count</th>\n",
       "      <th>mean</th>\n",
       "      <th>std</th>\n",
       "      <th>min</th>\n",
       "      <th>25%</th>\n",
       "      <th>50%</th>\n",
       "      <th>75%</th>\n",
       "      <th>max</th>\n",
       "    </tr>\n",
       "  </thead>\n",
       "  <tbody>\n",
       "    <tr>\n",
       "      <th>bedrooms</th>\n",
       "      <td>796639.0</td>\n",
       "      <td>3.208989</td>\n",
       "      <td>0.584149</td>\n",
       "      <td>2.00</td>\n",
       "      <td>3.00</td>\n",
       "      <td>3.00</td>\n",
       "      <td>4.000</td>\n",
       "      <td>4.0</td>\n",
       "    </tr>\n",
       "    <tr>\n",
       "      <th>bathrooms</th>\n",
       "      <td>796639.0</td>\n",
       "      <td>2.011141</td>\n",
       "      <td>0.153560</td>\n",
       "      <td>1.50</td>\n",
       "      <td>2.00</td>\n",
       "      <td>2.00</td>\n",
       "      <td>2.000</td>\n",
       "      <td>2.5</td>\n",
       "    </tr>\n",
       "    <tr>\n",
       "      <th>area</th>\n",
       "      <td>796639.0</td>\n",
       "      <td>1514.482786</td>\n",
       "      <td>289.681748</td>\n",
       "      <td>793.00</td>\n",
       "      <td>1289.00</td>\n",
       "      <td>1479.00</td>\n",
       "      <td>1704.000</td>\n",
       "      <td>2289.0</td>\n",
       "    </tr>\n",
       "    <tr>\n",
       "      <th>tax_value</th>\n",
       "      <td>796639.0</td>\n",
       "      <td>285074.071149</td>\n",
       "      <td>157258.255758</td>\n",
       "      <td>22.00</td>\n",
       "      <td>153581.00</td>\n",
       "      <td>272602.00</td>\n",
       "      <td>399081.500</td>\n",
       "      <td>696814.0</td>\n",
       "    </tr>\n",
       "    <tr>\n",
       "      <th>year_built</th>\n",
       "      <td>796639.0</td>\n",
       "      <td>1959.747951</td>\n",
       "      <td>10.419623</td>\n",
       "      <td>1934.00</td>\n",
       "      <td>1953.00</td>\n",
       "      <td>1958.00</td>\n",
       "      <td>1966.000</td>\n",
       "      <td>1984.0</td>\n",
       "    </tr>\n",
       "    <tr>\n",
       "      <th>taxes_yearly</th>\n",
       "      <td>796639.0</td>\n",
       "      <td>3532.074914</td>\n",
       "      <td>1762.016583</td>\n",
       "      <td>16.48</td>\n",
       "      <td>2098.58</td>\n",
       "      <td>3402.63</td>\n",
       "      <td>4841.375</td>\n",
       "      <td>7657.7</td>\n",
       "    </tr>\n",
       "    <tr>\n",
       "      <th>fips</th>\n",
       "      <td>796639.0</td>\n",
       "      <td>6050.318637</td>\n",
       "      <td>21.448517</td>\n",
       "      <td>6037.00</td>\n",
       "      <td>6037.00</td>\n",
       "      <td>6037.00</td>\n",
       "      <td>6059.000</td>\n",
       "      <td>6111.0</td>\n",
       "    </tr>\n",
       "  </tbody>\n",
       "</table>\n",
       "</div>"
      ],
      "text/plain": [
       "                 count           mean            std      min        25%  \\\n",
       "bedrooms      796639.0       3.208989       0.584149     2.00       3.00   \n",
       "bathrooms     796639.0       2.011141       0.153560     1.50       2.00   \n",
       "area          796639.0    1514.482786     289.681748   793.00    1289.00   \n",
       "tax_value     796639.0  285074.071149  157258.255758    22.00  153581.00   \n",
       "year_built    796639.0    1959.747951      10.419623  1934.00    1953.00   \n",
       "taxes_yearly  796639.0    3532.074914    1762.016583    16.48    2098.58   \n",
       "fips          796639.0    6050.318637      21.448517  6037.00    6037.00   \n",
       "\n",
       "                    50%         75%       max  \n",
       "bedrooms           3.00       4.000       4.0  \n",
       "bathrooms          2.00       2.000       2.5  \n",
       "area            1479.00    1704.000    2289.0  \n",
       "tax_value     272602.00  399081.500  696814.0  \n",
       "year_built      1958.00    1966.000    1984.0  \n",
       "taxes_yearly    3402.63    4841.375    7657.7  \n",
       "fips            6037.00    6059.000    6111.0  "
      ]
     },
     "execution_count": 3,
     "metadata": {},
     "output_type": "execute_result"
    }
   ],
   "source": [
    "## def not looking correct. a single family house with 25 bedrooms? 32 bathrooms? almost a million sqft? 1mil in taxes a year?\n",
    "## if looking for model to predict, i'm going to remove outliers that would skew data\n",
    "## used tukey to remove outliers\n",
    "\n",
    "\n",
    "## dropping <1 bathroom counts, since that's a code violation for a single family unit (requirement)\n",
    "## also dropping <1 bedroom counts, since studios should not be considered a single family residence\n",
    "\n",
    "## dropping any homes with less than 320sqft due to International Residential Code (IRC). \n",
    "## The IRC codes require that all homes must be built on a minimum of 320 square feet.\n",
    "\n",
    "\n",
    "temp_list = ['bedrooms', 'bathrooms', 'area', 'tax_value', 'year_built', 'taxes_yearly']\n",
    "\n",
    "tukey_k = 1.5\n",
    "\n",
    "for col in temp_list:\n",
    "       IQR = (df[col].describe()[\"75%\"] - df[col].describe()[\"25%\"])\n",
    "       df = df[(df[col] < (df[col].describe()[\"50%\"] + (IQR * tukey_k))) & \\\n",
    "            (df[col] > (df[col].describe()[\"50%\"] - (IQR * tukey_k)))]\n",
    "\n",
    "\n",
    "## using 3x STD from MEAN to determine retention\n",
    "## using 3 sigma for deviation allowance to capture 99.7% (removing the extreme outliers)\n",
    "#for col in temp_list:\n",
    "#    df = df[(df[col] < (df[col].describe()[\"mean\"] + df[col].describe()[\"std\"]*3)) & \\\n",
    "#            (df[col] > (df[col].describe()[\"mean\"] - df[col].describe()[\"std\"]*3))]\n",
    "\n",
    "#df = df[df.bathrooms>=1]\n",
    "#df = df[df.bedrooms>=1]\n",
    "#df = df[df.area>320]\n",
    "\n",
    "df.describe().T"
   ]
  },
  {
   "cell_type": "code",
   "execution_count": 4,
   "metadata": {},
   "outputs": [
    {
     "name": "stdout",
     "output_type": "stream",
     "text": [
      "prepared df shape: (796639, 7)\n",
      "train shape: (477983, 7)\n",
      "validate shape: (159328, 7)\n",
      "test shape: (159328, 7)\n"
     ]
    }
   ],
   "source": [
    "\n",
    "train, test = train_test_split( df, test_size= .2, random_state= 123)\n",
    "train, validate = train_test_split( train, test_size= .25, random_state=123)\n",
    "\n",
    "print(f\"prepared df shape: {df.shape}\")\n",
    "print(f\"train shape: {train.shape}\")\n",
    "print(f\"validate shape: {validate.shape}\")\n",
    "print(f\"test shape: {test.shape}\")\n"
   ]
  },
  {
   "cell_type": "code",
   "execution_count": 5,
   "metadata": {},
   "outputs": [],
   "source": [
    "X_train,X_validate = train[[\"taxes_yearly\"]],validate[[\"taxes_yearly\"]]\n",
    "y_train,y_validate = train[\"tax_value\"],validate[\"tax_value\"]\n",
    "model = KNeighborsClassifier(n_neighbors=3)\n",
    "model.fit(X_train,y_train)\n",
    "no_scale = model.score(X_validate,y_validate)"
   ]
  },
  {
   "cell_type": "markdown",
   "metadata": {},
   "source": [
    "# Apply the scalers we talked about in this lesson to your data and visualize the results for the unscaled and scaled distribution ."
   ]
  },
  {
   "cell_type": "code",
   "execution_count": 6,
   "metadata": {},
   "outputs": [
    {
     "name": "stdout",
     "output_type": "stream",
     "text": [
      "0.02266393854187588 no scale\n",
      "0.022714149427595903\n"
     ]
    },
    {
     "data": {
      "text/plain": [
       "Text(0.5, 1.0, 'Scaled')"
      ]
     },
     "execution_count": 6,
     "metadata": {},
     "output_type": "execute_result"
    },
    {
     "data": {
      "image/png": "[encoded data removed]",
      "text/plain": [
       "<Figure size 936x432 with 2 Axes>"
      ]
     },
     "metadata": {
      "needs_background": "light"
     },
     "output_type": "display_data"
    }
   ],
   "source": [
    "scaler = MinMaxScaler()\n",
    "\n",
    "X_train_scaled = scaler.fit_transform(X_train) ##only use fit_transform for training, after that use transform (equations are created)\n",
    "X_validate_scaled = scaler.transform(X_validate)\n",
    "\n",
    "print(no_scale, \"no scale\")\n",
    "model.fit(X_train_scaled,y_train)\n",
    "print(model.score(X_validate_scaled,y_validate))\n",
    "\n",
    "plt.figure(figsize=(13, 6))\n",
    "plt.subplot(121)\n",
    "plt.hist(X_train, bins=25, ec='black')\n",
    "plt.title('Original')\n",
    "plt.subplot(122)\n",
    "plt.hist(X_train_scaled, bins=25, ec='black')\n",
    "plt.title('Scaled')\n"
   ]
  },
  {
   "cell_type": "code",
   "execution_count": 7,
   "metadata": {},
   "outputs": [
    {
     "name": "stdout",
     "output_type": "stream",
     "text": [
      "0.02266393854187588 no scale\n",
      "0.022714149427595903\n"
     ]
    },
    {
     "data": {
      "text/plain": [
       "Text(0.5, 1.0, 'Scaled')"
      ]
     },
     "execution_count": 7,
     "metadata": {},
     "output_type": "execute_result"
    },
    {
     "data": {
      "image/png": "[encoded data removed]",
      "text/plain": [
       "<Figure size 936x432 with 2 Axes>"
      ]
     },
     "metadata": {
      "needs_background": "light"
     },
     "output_type": "display_data"
    }
   ],
   "source": [
    "scaler = StandardScaler()\n",
    "\n",
    "X_train_scaled = scaler.fit_transform(X_train) ##only use fit_transform for training, after that use transform (equations are created)\n",
    "X_validate_scaled = scaler.transform(X_validate)\n",
    "\n",
    "print(no_scale, \"no scale\")\n",
    "model.fit(X_train_scaled,y_train)\n",
    "print(model.score(X_validate_scaled,y_validate))\n",
    "\n",
    "plt.figure(figsize=(13, 6))\n",
    "plt.subplot(121)\n",
    "plt.hist(X_train, bins=25, ec='black')\n",
    "plt.title('Original')\n",
    "plt.subplot(122)\n",
    "plt.hist(X_train_scaled, bins=25, ec='black')\n",
    "plt.title('Scaled')"
   ]
  },
  {
   "cell_type": "code",
   "execution_count": 8,
   "metadata": {},
   "outputs": [
    {
     "name": "stdout",
     "output_type": "stream",
     "text": [
      "0.02266393854187588 no scale\n",
      "0.022682767624020887\n"
     ]
    },
    {
     "data": {
      "text/plain": [
       "Text(0.5, 1.0, 'Scaled')"
      ]
     },
     "execution_count": 8,
     "metadata": {},
     "output_type": "execute_result"
    },
    {
     "data": {
      "image/png": "[encoded data removed]",
      "text/plain": [
       "<Figure size 936x432 with 2 Axes>"
      ]
     },
     "metadata": {
      "needs_background": "light"
     },
     "output_type": "display_data"
    }
   ],
   "source": [
    "scaler = RobustScaler()\n",
    "\n",
    "X_train_scaled = scaler.fit_transform(X_train) ##only use fit_transform for training, after that use transform (equations are created)\n",
    "X_validate_scaled = scaler.transform(X_validate)\n",
    "\n",
    "print(no_scale, \"no scale\")\n",
    "model.fit(X_train_scaled,y_train)\n",
    "print(model.score(X_validate_scaled,y_validate))\n",
    "\n",
    "plt.figure(figsize=(13, 6))\n",
    "plt.subplot(121)\n",
    "plt.hist(X_train, bins=25, ec='black')\n",
    "plt.title('Original')\n",
    "plt.subplot(122)\n",
    "plt.hist(X_train_scaled, bins=25, ec='black')\n",
    "plt.title('Scaled')"
   ]
  },
  {
   "cell_type": "markdown",
   "metadata": {},
   "source": [
    "# Apply the .inverse_transform method to your scaled data. Is the resulting dataset the exact same as the original data?\n",
    "\n",
    "yes, looks like it"
   ]
  },
  {
   "cell_type": "code",
   "execution_count": 9,
   "metadata": {},
   "outputs": [
    {
     "name": "stdout",
     "output_type": "stream",
     "text": [
      "0.02266393854187588 no scale\n",
      "0.022739254870455916\n"
     ]
    },
    {
     "data": {
      "text/plain": [
       "Text(0.5, 1.0, 'Scaled')"
      ]
     },
     "execution_count": 9,
     "metadata": {},
     "output_type": "execute_result"
    },
    {
     "data": {
      "image/png": "[encoded data removed]",
      "text/plain": [
       "<Figure size 936x432 with 2 Axes>"
      ]
     },
     "metadata": {
      "needs_background": "light"
     },
     "output_type": "display_data"
    }
   ],
   "source": [
    "scaler = MinMaxScaler()\n",
    "\n",
    "scaler.fit(X_train) ##only use fit_transform for training, after that use transform (equations are created)\n",
    "X_train_scaled = scaler.inverse_transform(X_train)\n",
    "X_validate_scaled = scaler.inverse_transform(X_validate)\n",
    "\n",
    "print(no_scale, \"no scale\")\n",
    "model.fit(X_train_scaled,y_train)\n",
    "print(model.score(X_validate_scaled,y_validate))\n",
    "\n",
    "plt.figure(figsize=(13, 6))\n",
    "plt.subplot(121)\n",
    "plt.hist(X_train, bins=25, ec='black')\n",
    "plt.title('Original')\n",
    "plt.subplot(122)\n",
    "plt.hist(X_train_scaled, bins=25, ec='black')\n",
    "plt.title('Scaled')\n"
   ]
  },
  {
   "cell_type": "markdown",
   "metadata": {},
   "source": [
    "# Read the documentation for sklearn's QuantileTransformer. Use normal for the output_distribution and apply this scaler to your data. Visualize the result of your data scaling.\n"
   ]
  },
  {
   "cell_type": "code",
   "execution_count": 11,
   "metadata": {},
   "outputs": [
    {
     "name": "stdout",
     "output_type": "stream",
     "text": [
      "0.02266393854187588 no scale\n",
      "0.022776913034745935\n"
     ]
    },
    {
     "data": {
      "text/plain": [
       "Text(0.5, 1.0, 'Scaled')"
      ]
     },
     "execution_count": 11,
     "metadata": {},
     "output_type": "execute_result"
    },
    {
     "data": {
      "image/png": "[encoded data removed]",
      "text/plain": [
       "<Figure size 936x432 with 2 Axes>"
      ]
     },
     "metadata": {
      "needs_background": "light"
     },
     "output_type": "display_data"
    }
   ],
   "source": [
    "\n",
    "qt = sklearn.preprocessing.QuantileTransformer(n_quantiles=25,random_state=123,output_distribution=\"normal\")\n",
    "\n",
    "qt.fit(X_train) ##only use fit_transform for training, after that use transform (equations are created)\n",
    "X_train_scaled = qt.transform(X_train)\n",
    "X_validate_scaled = qt.transform(X_validate)\n",
    "\n",
    "print(no_scale, \"no scale\")\n",
    "model.fit(X_train_scaled,y_train)\n",
    "print(model.score(X_validate_scaled,y_validate))\n",
    "\n",
    "plt.figure(figsize=(13, 6))\n",
    "plt.subplot(121)\n",
    "plt.hist(X_train, bins=25, ec='black')\n",
    "plt.title('Original')\n",
    "plt.subplot(122)\n",
    "plt.hist(X_train_scaled, bins=25, ec='black')\n",
    "plt.title('Scaled')\n"
   ]
  },
  {
   "cell_type": "markdown",
   "metadata": {},
   "source": [
    "# Use the QuantileTransformer, but omit the output_distribution argument. Visualize your results. What do you notice?\n",
    "\n",
    "that it returned to the default arguement of uniform"
   ]
  },
  {
   "cell_type": "code",
   "execution_count": 12,
   "metadata": {},
   "outputs": [
    {
     "name": "stdout",
     "output_type": "stream",
     "text": [
      "0.02266393854187588 no scale\n",
      "0.022714149427595903\n"
     ]
    },
    {
     "data": {
      "text/plain": [
       "Text(0.5, 1.0, 'Scaled')"
      ]
     },
     "execution_count": 12,
     "metadata": {},
     "output_type": "execute_result"
    },
    {
     "data": {
      "image/png": "[encoded data removed]",
      "text/plain": [
       "<Figure size 936x432 with 2 Axes>"
      ]
     },
     "metadata": {
      "needs_background": "light"
     },
     "output_type": "display_data"
    }
   ],
   "source": [
    "\n",
    "qt = sklearn.preprocessing.QuantileTransformer(n_quantiles=25,random_state=123)\n",
    "\n",
    "qt.fit(X_train) ##only use fit_transform for training, after that use transform (equations are created)\n",
    "X_train_scaled = qt.transform(X_train)\n",
    "X_validate_scaled = qt.transform(X_validate)\n",
    "\n",
    "print(no_scale, \"no scale\")\n",
    "model.fit(X_train_scaled,y_train)\n",
    "print(model.score(X_validate_scaled,y_validate))\n",
    "\n",
    "plt.figure(figsize=(13, 6))\n",
    "plt.subplot(121)\n",
    "plt.hist(X_train, bins=25, ec='black')\n",
    "plt.title('Original')\n",
    "plt.subplot(122)\n",
    "plt.hist(X_train_scaled, bins=25, ec='black')\n",
    "plt.title('Scaled')\n"
   ]
  },
  {
   "cell_type": "markdown",
   "metadata": {},
   "source": [
    "# Based on the work you've done, choose a scaling method for your dataset. Write a function within your prepare.py that accepts as input the train, validate, and test data splits, and returns the scaled versions of each. Be sure to only learn the parameters for scaling from your training data!\n",
    "\n",
    "sure"
   ]
  },
  {
   "cell_type": "markdown",
   "metadata": {},
   "source": [
    "-\n",
    "-\n",
    "-\n",
    "-\n",
    "-\n",
    "-\n",
    "-\n",
    "-\n",
    "-\n",
    "-\n",
    "-\n",
    "-\n",
    "-\n",
    "-\n",
    "-\n",
    "-\n",
    "-\n",
    "-\n",
    "-\n",
    "-\n",
    "-\n",
    "-\n",
    "-\n",
    "-\n",
    "-\n",
    "-\n",
    "-\n",
    "-\n",
    "-\n",
    "-\n",
    "-\n",
    "-\n",
    "-\n",
    "-\n",
    "-\n",
    "-\n",
    "-\n",
    "-\n",
    "-\n",
    "-\n",
    "-\n",
    "-\n",
    "-\n",
    "-\n",
    "-\n",
    "-"
   ]
  },
  {
   "cell_type": "code",
   "execution_count": null,
   "metadata": {},
   "outputs": [],
   "source": []
  },
  {
   "cell_type": "markdown",
   "metadata": {},
   "source": [
    "## playing with the data\n",
    "\n",
    "\n",
    "bin_df = pd.DataFrame()\n",
    "df = df[df[\"tax_value\"]<500_000]\n",
    "\n",
    "for col in temp_list:\n",
    "    bin_df[f\"{col} binned\"] = pd.cut(df[col],5)\n",
    "bin_df[\"fips\"] = df.fips\n",
    "bin_df[\"dummy\"] = 1\n",
    "bin_df\n",
    "\n",
    "\n",
    "\n",
    "binned = bin_df.groupby(bin_df.drop(columns=[\"dummy\"]).columns.tolist()).sum().reset_index()\n",
    "binned = binned[binned.dummy > 0]\n",
    "binned\n",
    "\n",
    "\n",
    "\n",
    "import plotly.express as px\n",
    "import plotly\n",
    "\n",
    "s_list = [ 'fips','tax_value binned']\n",
    "\n",
    "all = binned[\"dummy\"].sum()\n",
    "#binned[\"percentage\"] = (round(((binned[\"dummy\"]/all)*100),3).astype(str) + \"%\")\n",
    "binned[\"percentage\"] = (binned[\"dummy\"]/all)\n",
    "\n",
    "fig = px.sunburst(  binned, \n",
    "                    path=s_list,\n",
    "                    labels=s_list,\n",
    "                    values='dummy',\n",
    "                    color = \"tax_value binned\"\n",
    "                    )\n",
    "plotly.offline.plot(fig, validate=False)\n",
    "\n",
    "\n"
   ]
  }
 ],
 "metadata": {
  "kernelspec": {
   "display_name": "Python 3.9.12 ('base')",
   "language": "python",
   "name": "python3"
  },
  "language_info": {
   "codemirror_mode": {
    "name": "ipython",
    "version": 3
   },
   "file_extension": ".py",
   "mimetype": "text/x-python",
   "name": "python",
   "nbconvert_exporter": "python",
   "pygments_lexer": "ipython3",
   "version": "3.9.12"
  },
  "orig_nbformat": 4,
  "vscode": {
   "interpreter": {
    "hash": "3067ead486e059ec00ffe7555bdb889e6e264a24dc711bf108106cc7baee8d5d"
   }
  }
 },
 "nbformat": 4,
 "nbformat_minor": 2
}
