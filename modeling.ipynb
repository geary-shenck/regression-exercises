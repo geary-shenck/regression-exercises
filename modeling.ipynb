{
 "cells": [
  {
   "cell_type": "code",
   "execution_count": 86,
   "metadata": {},
   "outputs": [],
   "source": [
    "#import warnings\n",
    "#warnings.filterwarnings(\"ignore\")\n",
    "\n",
    "import pandas as pd\n",
    "import numpy as np\n",
    "import seaborn as sns\n",
    "import matplotlib.pyplot as plt\n",
    "import viz\n",
    "\n",
    "import scipy\n",
    "from scipy import stats\n",
    "import sklearn.impute as simpleImputer\n",
    "from sklearn.model_selection import train_test_split\n",
    "from sklearn.neighbors import KNeighborsClassifier\n",
    "from sklearn.preprocessing import MinMaxScaler,StandardScaler,RobustScaler\n",
    "\n",
    "from sklearn.metrics import mean_squared_error, r2_score, explained_variance_score\n",
    "from sklearn.linear_model import LinearRegression, LassoLars, TweedieRegressor\n",
    "from sklearn.preprocessing import PolynomialFeatures\n",
    "\n",
    "\n",
    "\n",
    "from sklearn.feature_selection import SelectKBest, RFE, f_regression, SequentialFeatureSelector\n",
    "\n",
    "\n",
    "import prepare\n",
    "import explore"
   ]
  },
  {
   "cell_type": "markdown",
   "metadata": {},
   "source": [
    "# Prepare Data for Modeling\n",
    "Wrangle\n",
    "\n",
    "Acquired data from student-mat.csv.\n",
    "\n",
    "Create dummy vars\n",
    "\n",
    "Split data\n",
    "\n",
    "Scale data"
   ]
  },
  {
   "cell_type": "code",
   "execution_count": 87,
   "metadata": {},
   "outputs": [],
   "source": [
    "#ACQUIRE\n",
    "df = sns.load_dataset(\"tips\")\n",
    "df[\"price_per_person\"] = df[\"total_bill\"]/df[\"size\"]\n",
    "\n",
    "#CREATE DUMMY\n",
    "dummy_df = pd.get_dummies(data=df[df.select_dtypes(include=['category']).columns.tolist()], drop_first=False)\n",
    "dummy_df.drop(columns=[\"sex_Male\",\"smoker_No\",\"time_Lunch\"],inplace=True)\n",
    "\n",
    "df = df.drop(columns=(df.select_dtypes(include=['category']).columns.tolist()))\n",
    "df = pd.concat([df,dummy_df],axis=1)\n",
    "\n",
    "pred = \"tip\"\n",
    "\n",
    "cat_col = [\"size\",\"sex_Female\",\"smoker_Yes\",'day_Thur', 'day_Fri', 'day_Sat', 'day_Sun',\n",
    "       'time_Dinner']\n",
    "num_col = [\"total_bill\",\"price_per_person\"\n",
    "]\n",
    "\n",
    "#SPLIT\n",
    "from sklearn.model_selection import train_test_split\n",
    "\n",
    "train,test = train_test_split(df,test_size= .2, random_state=123)\n",
    "train,validate = train_test_split(train,test_size= .25, random_state=123)\n",
    "\n",
    "\n",
    "not_pred=df.columns.drop(pred).tolist()\n",
    "\n",
    "\n",
    "X_train,y_train = train[not_pred],train[pred]\n",
    "X_validate,y_validate = validate[not_pred],validate[pred]\n",
    "X_test,y_test = test[not_pred],test[pred]\n",
    "\n",
    "\n",
    "#SCALE THE DATA\n",
    "scaler = MinMaxScaler(copy=True).fit(X_train[num_col])\n",
    "# scale X_train, X_validate, X_test using the mins and maxes stored in the scaler derived from X_train.\n",
    "#\n",
    "X_train_scaled_array = scaler.transform(X_train[num_col])\n",
    "X_validate_scaled_array = scaler.transform(X_validate[num_col])\n",
    "X_test_scaled_array = scaler.transform(X_test[num_col])\n",
    "# convert arrays to dataframes\n",
    "X_train_scaled = pd.DataFrame(X_train_scaled_array, columns=num_col).set_index(\n",
    "    [X_train.index.values]\n",
    ")\n",
    "X_validate_scaled = pd.DataFrame(\n",
    "    X_validate_scaled_array, columns=num_col\n",
    ").set_index([X_validate.index.values])\n",
    "X_test_scaled = pd.DataFrame(X_test_scaled_array, columns=num_col).set_index(\n",
    "    [X_test.index.values]\n",
    ")\n"
   ]
  },
  {
   "cell_type": "code",
   "execution_count": 88,
   "metadata": {},
   "outputs": [
    {
     "data": {
      "text/html": [
       "<div>\n",
       "<style scoped>\n",
       "    .dataframe tbody tr th:only-of-type {\n",
       "        vertical-align: middle;\n",
       "    }\n",
       "\n",
       "    .dataframe tbody tr th {\n",
       "        vertical-align: top;\n",
       "    }\n",
       "\n",
       "    .dataframe thead th {\n",
       "        text-align: right;\n",
       "    }\n",
       "</style>\n",
       "<table border=\"1\" class=\"dataframe\">\n",
       "  <thead>\n",
       "    <tr style=\"text-align: right;\">\n",
       "      <th></th>\n",
       "      <th>total_bill</th>\n",
       "      <th>size</th>\n",
       "      <th>price_per_person</th>\n",
       "      <th>sex_Female</th>\n",
       "      <th>smoker_Yes</th>\n",
       "      <th>day_Thur</th>\n",
       "      <th>day_Fri</th>\n",
       "      <th>day_Sat</th>\n",
       "      <th>day_Sun</th>\n",
       "      <th>time_Dinner</th>\n",
       "    </tr>\n",
       "  </thead>\n",
       "  <tbody>\n",
       "    <tr>\n",
       "      <th>224</th>\n",
       "      <td>13.42</td>\n",
       "      <td>2</td>\n",
       "      <td>6.710000</td>\n",
       "      <td>0</td>\n",
       "      <td>1</td>\n",
       "      <td>0</td>\n",
       "      <td>1</td>\n",
       "      <td>0</td>\n",
       "      <td>0</td>\n",
       "      <td>0</td>\n",
       "    </tr>\n",
       "    <tr>\n",
       "      <th>181</th>\n",
       "      <td>23.33</td>\n",
       "      <td>2</td>\n",
       "      <td>11.665000</td>\n",
       "      <td>0</td>\n",
       "      <td>1</td>\n",
       "      <td>0</td>\n",
       "      <td>0</td>\n",
       "      <td>0</td>\n",
       "      <td>1</td>\n",
       "      <td>1</td>\n",
       "    </tr>\n",
       "    <tr>\n",
       "      <th>102</th>\n",
       "      <td>44.30</td>\n",
       "      <td>3</td>\n",
       "      <td>14.766667</td>\n",
       "      <td>1</td>\n",
       "      <td>1</td>\n",
       "      <td>0</td>\n",
       "      <td>0</td>\n",
       "      <td>1</td>\n",
       "      <td>0</td>\n",
       "      <td>1</td>\n",
       "    </tr>\n",
       "    <tr>\n",
       "      <th>164</th>\n",
       "      <td>17.51</td>\n",
       "      <td>2</td>\n",
       "      <td>8.755000</td>\n",
       "      <td>1</td>\n",
       "      <td>1</td>\n",
       "      <td>0</td>\n",
       "      <td>0</td>\n",
       "      <td>0</td>\n",
       "      <td>1</td>\n",
       "      <td>1</td>\n",
       "    </tr>\n",
       "    <tr>\n",
       "      <th>73</th>\n",
       "      <td>25.28</td>\n",
       "      <td>2</td>\n",
       "      <td>12.640000</td>\n",
       "      <td>1</td>\n",
       "      <td>1</td>\n",
       "      <td>0</td>\n",
       "      <td>0</td>\n",
       "      <td>1</td>\n",
       "      <td>0</td>\n",
       "      <td>1</td>\n",
       "    </tr>\n",
       "  </tbody>\n",
       "</table>\n",
       "</div>"
      ],
      "text/plain": [
       "     total_bill  size  price_per_person  sex_Female  smoker_Yes  day_Thur  \\\n",
       "224       13.42     2          6.710000           0           1         0   \n",
       "181       23.33     2         11.665000           0           1         0   \n",
       "102       44.30     3         14.766667           1           1         0   \n",
       "164       17.51     2          8.755000           1           1         0   \n",
       "73        25.28     2         12.640000           1           1         0   \n",
       "\n",
       "     day_Fri  day_Sat  day_Sun  time_Dinner  \n",
       "224        1        0        0            0  \n",
       "181        0        0        1            1  \n",
       "102        0        1        0            1  \n",
       "164        0        0        1            1  \n",
       "73         0        1        0            1  "
      ]
     },
     "execution_count": 88,
     "metadata": {},
     "output_type": "execute_result"
    }
   ],
   "source": [
    "X_train.head()"
   ]
  },
  {
   "cell_type": "code",
   "execution_count": 89,
   "metadata": {},
   "outputs": [
    {
     "data": {
      "text/plain": [
       "224    1.58\n",
       "181    5.65\n",
       "102    2.50\n",
       "164    3.00\n",
       "73     5.00\n",
       "       ... \n",
       "233    1.47\n",
       "6      2.00\n",
       "7      3.12\n",
       "115    3.50\n",
       "166    2.24\n",
       "Name: tip, Length: 146, dtype: float64"
      ]
     },
     "execution_count": 89,
     "metadata": {},
     "output_type": "execute_result"
    }
   ],
   "source": [
    "y_train"
   ]
  },
  {
   "cell_type": "code",
   "execution_count": 90,
   "metadata": {},
   "outputs": [
    {
     "data": {
      "image/png": "[encoded data removed]",
      "text/plain": [
       "<Figure size 432x288 with 1 Axes>"
      ]
     },
     "metadata": {
      "needs_background": "light"
     },
     "output_type": "display_data"
    }
   ],
   "source": [
    "baseline_mean_tips = y_train.mean()\n",
    "baseline_median_tips = y_train.median()\n",
    "\n",
    "plt.hist(y_train)\n",
    "plt.axvline(x=baseline_median_tips,color=\"black\",label=\"median\")\n",
    "plt.axvline(x=baseline_mean_tips,color=\"red\",label=\"mean\")\n",
    "plt.xlabel(\"TIPS\")\n",
    "plt.ylabel(\"COUNT\")\n",
    "plt.legend()\n",
    "plt.title(\"histogram of tips\")\n",
    "plt.show()\n"
   ]
  },
  {
   "cell_type": "code",
   "execution_count": 91,
   "metadata": {},
   "outputs": [],
   "source": [
    "#determining best baseline\n",
    "y_train=pd.DataFrame(y_train)\n",
    "y_validate = pd.DataFrame(y_validate)\n",
    "\n",
    "y_train[\"mean\"] = baseline_mean_tips\n",
    "y_validate[\"mean\"] = baseline_mean_tips\n",
    "\n",
    "y_train[\"median\"] = baseline_median_tips\n",
    "y_validate[\"median\"] = baseline_median_tips\n",
    "\n"
   ]
  },
  {
   "cell_type": "code",
   "execution_count": 93,
   "metadata": {},
   "outputs": [
    {
     "name": "stdout",
     "output_type": "stream",
     "text": [
      "RMSE using Mean\n",
      "Train/In-Sample:  1.45 \n",
      "Validate/Out-of-Sample:  1.53\n",
      "RMSE using Median\n",
      "Train/In-Sample:  1.47 \n",
      "Validate/Out-of-Sample:  1.57\n"
     ]
    }
   ],
   "source": [
    "##want smallest error\n",
    "\n",
    "rmse_mean_train = mean_squared_error(y_train.tip, y_train[\"mean\"])**(1/2)\n",
    "rmse_mean_validate = mean_squared_error(y_validate.tip, y_validate[\"mean\"])**(1/2)\n",
    "\n",
    "print(\"RMSE using Mean\\nTrain/In-Sample: \", round(rmse_mean_train, 2), \n",
    "      \"\\nValidate/Out-of-Sample: \", round(rmse_mean_validate, 2))\n",
    "\n",
    "\n",
    "rmse_median_train = mean_squared_error(y_train.tip, y_train[\"median\"])**(1/2)\n",
    "rmse_median_validate = mean_squared_error(y_validate.tip, y_validate[\"median\"])**(1/2)\n",
    "\n",
    "print(\"RMSE using Median\\nTrain/In-Sample: \", round(rmse_median_train, 2), \n",
    "      \"\\nValidate/Out-of-Sample: \", round(rmse_median_validate, 2))"
   ]
  },
  {
   "cell_type": "markdown",
   "metadata": {},
   "source": [
    "mean is lowest, will use that moving forward"
   ]
  },
  {
   "cell_type": "code",
   "execution_count": 94,
   "metadata": {},
   "outputs": [],
   "source": [
    "metric_df = pd.DataFrame(\n",
    "    data=[{\n",
    "        \"model\":\"mean_baseline\",\n",
    "        \"rmse_validate\":rmse_mean_validate,\n",
    "        \"r^2_validate\":explained_variance_score(y_validate.tip,y_validate[\"mean\"])\n",
    "    }]\n",
    ")"
   ]
  },
  {
   "cell_type": "markdown",
   "metadata": {},
   "source": [
    "# LinearRegression (OLS)\n",
    "Fit the model using X_train_scaled and the labels from y_train.\n",
    "\n",
    "Predict final grade for students in training sample using our model (lm).\n",
    "\n",
    "Evaluate using RMSE\n",
    "\n",
    "Repeat predictions and evaluation for validation.\n",
    "\n",
    "Compare RMSE train vs. validation. Overfitting?"
   ]
  },
  {
   "cell_type": "code",
   "execution_count": 97,
   "metadata": {},
   "outputs": [
    {
     "name": "stdout",
     "output_type": "stream",
     "text": [
      "RMSE for OLS using LinearRegression\n",
      "Training/In-Sample:  1.063214809472265 \n",
      "Validation/Out-of-Sample:  1.0184993840309196\n"
     ]
    }
   ],
   "source": [
    "# create the model object\n",
    "linreg = LinearRegression()\n",
    "\n",
    "# fit the model to our training data. \n",
    "linreg.fit(X_train_scaled, y_train[\"tip\"])\n",
    "\n",
    "# predict train\n",
    "y_train['tip_pred_linreg'] = linreg.predict(X_train_scaled)\n",
    "\n",
    "# evaluate: rmse\n",
    "rmse_linreg_train = mean_squared_error(y_train.tip, y_train.tip_pred_linreg)**(1/2)\n",
    "\n",
    "# predict validate\n",
    "y_validate['tip_pred_linreg'] = linreg.predict(X_validate_scaled)\n",
    "\n",
    "# evaluate: rmse\n",
    "rmse_linreg_validate = mean_squared_error(y_validate.tip, y_validate.tip_pred_linreg)**(1/2)\n",
    "\n",
    "print(\"RMSE for OLS using LinearRegression\\nTraining/In-Sample: \", rmse_linreg_train, \n",
    "      \"\\nValidation/Out-of-Sample: \", rmse_linreg_validate)"
   ]
  },
  {
   "cell_type": "code",
   "execution_count": 98,
   "metadata": {},
   "outputs": [],
   "source": [
    "metric_df.loc[len(metric_df.index)] = [\"OLS lm 1\",\n",
    "                                        rmse_linreg_train,\n",
    "                                        explained_variance_score(y_validate.tip,y_validate[\"tip_pred_linreg\"])\n",
    "                                    ]"
   ]
  },
  {
   "cell_type": "markdown",
   "metadata": {},
   "source": [
    "# LassoLars\n",
    "Fit the model using X_train_scaled and the labels from y_train.\n",
    "\n",
    "Predict final grade for students in training sample using our model (lars).\n",
    "\n",
    "Evaluate using RMSE\n",
    "\n",
    "Repeat predictions and evaluation for validation.\n",
    "\n",
    "Compare RMSE train vs. validation. Overfitting?"
   ]
  },
  {
   "cell_type": "code",
   "execution_count": 99,
   "metadata": {},
   "outputs": [
    {
     "name": "stdout",
     "output_type": "stream",
     "text": [
      "RMSE for Lasso + Lars\n",
      "Training/In-Sample:  1.451105446961829 \n",
      "Validation/Out-of-Sample:  1.5258133479910245\n"
     ]
    },
    {
     "name": "stderr",
     "output_type": "stream",
     "text": [
      "/usr/local/anaconda3/lib/python3.9/site-packages/sklearn/linear_model/_base.py:133: FutureWarning: The default of 'normalize' will be set to False in version 1.2 and deprecated in version 1.4.\n",
      "If you wish to scale the data, use Pipeline with a StandardScaler in a preprocessing stage. To reproduce the previous behavior:\n",
      "\n",
      "from sklearn.pipeline import make_pipeline\n",
      "\n",
      "model = make_pipeline(StandardScaler(with_mean=False), LassoLars())\n",
      "\n",
      "If you wish to pass a sample_weight parameter, you need to pass it as a fit parameter to each step of the pipeline as follows:\n",
      "\n",
      "kwargs = {s[0] + '__sample_weight': sample_weight for s in model.steps}\n",
      "model.fit(X, y, **kwargs)\n",
      "\n",
      "Set parameter alpha to: original_alpha * np.sqrt(n_samples). \n",
      "  warnings.warn(\n"
     ]
    }
   ],
   "source": [
    "# create the model object\n",
    "l_lars = LassoLars(alpha=1)\n",
    "\n",
    "# fit the model to our training data. \n",
    "l_lars.fit(X_train_scaled, y_train[\"tip\"])\n",
    "\n",
    "# predict train\n",
    "y_train['tip_pred_l_lars'] = l_lars.predict(X_train_scaled)\n",
    "\n",
    "# evaluate: rmse\n",
    "rmse_l_lars_train = mean_squared_error(y_train.tip, y_train.tip_pred_l_lars)**(1/2)\n",
    "\n",
    "# predict validate\n",
    "y_validate['tip_pred_l_lars'] = l_lars.predict(X_validate_scaled)\n",
    "\n",
    "# evaluate: rmse\n",
    "rmse_l_lars_validate = mean_squared_error(y_validate.tip, y_validate.tip_pred_l_lars)**(1/2)\n",
    "\n",
    "print(\"RMSE for Lasso + Lars\\nTraining/In-Sample: \", rmse_l_lars_train, \n",
    "      \"\\nValidation/Out-of-Sample: \", rmse_l_lars_validate)"
   ]
  },
  {
   "cell_type": "code",
   "execution_count": 100,
   "metadata": {},
   "outputs": [],
   "source": [
    "metric_df.loc[len(metric_df.index)] = [\"Lasso lars 1\",\n",
    "                                        rmse_l_lars_train,\n",
    "                                        explained_variance_score(y_validate.tip,y_validate[\"tip_pred_l_lars\"])\n",
    "                                    ]"
   ]
  },
  {
   "cell_type": "markdown",
   "metadata": {},
   "source": [
    "# TweedieRegressor (GLM)\n",
    "Fit the model using X_train_scaled and the labels from y_train.\n",
    "\n",
    "Predict final grade for students in training sample using our model (glm).\n",
    "\n",
    "Evaluate using RMSE\n",
    "\n",
    "Repeat predictions and evaluation for validation.\n",
    "\n",
    "Compare RMSE train vs. validation. Overfitting?"
   ]
  },
  {
   "cell_type": "code",
   "execution_count": 101,
   "metadata": {},
   "outputs": [
    {
     "name": "stdout",
     "output_type": "stream",
     "text": [
      "RMSE for GLM using Tweedie, power=1 & alpha=0\n",
      "Training/In-Sample:  1.093702460370466 \n",
      "Validation/Out-of-Sample:  0.9730664763765419\n"
     ]
    }
   ],
   "source": [
    "# create the model object\n",
    "glm = TweedieRegressor(power=1,alpha=0)\n",
    "\n",
    "# fit the model to our training data. \n",
    "glm.fit(X_train_scaled, y_train[\"tip\"])\n",
    "\n",
    "# predict train\n",
    "y_train['tip_pred_glm'] = glm.predict(X_train_scaled)\n",
    "\n",
    "# evaluate: rmse\n",
    "rmse_glm_train = mean_squared_error(y_train.tip, y_train.tip_pred_glm)**(1/2)\n",
    "\n",
    "# predict validate\n",
    "y_validate['tip_pred_glm'] = glm.predict(X_validate_scaled)\n",
    "\n",
    "# evaluate: rmse\n",
    "rmse_glm_validate = mean_squared_error(y_validate.tip, y_validate.tip_pred_glm)**(1/2)\n",
    "\n",
    "print(\"RMSE for GLM using Tweedie, power=1 & alpha=0\\nTraining/In-Sample: \", rmse_glm_train, \n",
    "      \"\\nValidation/Out-of-Sample: \", rmse_glm_validate)"
   ]
  },
  {
   "cell_type": "code",
   "execution_count": 102,
   "metadata": {},
   "outputs": [
    {
     "data": {
      "text/html": [
       "<div>\n",
       "<style scoped>\n",
       "    .dataframe tbody tr th:only-of-type {\n",
       "        vertical-align: middle;\n",
       "    }\n",
       "\n",
       "    .dataframe tbody tr th {\n",
       "        vertical-align: top;\n",
       "    }\n",
       "\n",
       "    .dataframe thead th {\n",
       "        text-align: right;\n",
       "    }\n",
       "</style>\n",
       "<table border=\"1\" class=\"dataframe\">\n",
       "  <thead>\n",
       "    <tr style=\"text-align: right;\">\n",
       "      <th></th>\n",
       "      <th>model</th>\n",
       "      <th>rmse_validate</th>\n",
       "      <th>r^2_validate</th>\n",
       "    </tr>\n",
       "  </thead>\n",
       "  <tbody>\n",
       "    <tr>\n",
       "      <th>0</th>\n",
       "      <td>mean_baseline</td>\n",
       "      <td>1.525813</td>\n",
       "      <td>3.330669e-16</td>\n",
       "    </tr>\n",
       "    <tr>\n",
       "      <th>1</th>\n",
       "      <td>OLS lm 1</td>\n",
       "      <td>1.063215</td>\n",
       "      <td>5.507265e-01</td>\n",
       "    </tr>\n",
       "    <tr>\n",
       "      <th>2</th>\n",
       "      <td>Lasso lars 1</td>\n",
       "      <td>1.451105</td>\n",
       "      <td>2.220446e-16</td>\n",
       "    </tr>\n",
       "    <tr>\n",
       "      <th>3</th>\n",
       "      <td>Tweedie 1</td>\n",
       "      <td>1.093702</td>\n",
       "      <td>5.887661e-01</td>\n",
       "    </tr>\n",
       "  </tbody>\n",
       "</table>\n",
       "</div>"
      ],
      "text/plain": [
       "           model  rmse_validate  r^2_validate\n",
       "0  mean_baseline       1.525813  3.330669e-16\n",
       "1       OLS lm 1       1.063215  5.507265e-01\n",
       "2   Lasso lars 1       1.451105  2.220446e-16\n",
       "3      Tweedie 1       1.093702  5.887661e-01"
      ]
     },
     "execution_count": 102,
     "metadata": {},
     "output_type": "execute_result"
    }
   ],
   "source": [
    "metric_df.loc[len(metric_df.index)] = [\"Tweedie 1\",\n",
    "                                        rmse_glm_train,\n",
    "                                        explained_variance_score(y_validate.tip,y_validate[\"tip_pred_glm\"])\n",
    "                                    ]\n",
    "\n",
    "metric_df"
   ]
  },
  {
   "cell_type": "code",
   "execution_count": 103,
   "metadata": {},
   "outputs": [
    {
     "data": {
      "text/html": [
       "<div>\n",
       "<style scoped>\n",
       "    .dataframe tbody tr th:only-of-type {\n",
       "        vertical-align: middle;\n",
       "    }\n",
       "\n",
       "    .dataframe tbody tr th {\n",
       "        vertical-align: top;\n",
       "    }\n",
       "\n",
       "    .dataframe thead th {\n",
       "        text-align: right;\n",
       "    }\n",
       "</style>\n",
       "<table border=\"1\" class=\"dataframe\">\n",
       "  <thead>\n",
       "    <tr style=\"text-align: right;\">\n",
       "      <th></th>\n",
       "      <th>tip</th>\n",
       "      <th>mean</th>\n",
       "      <th>median</th>\n",
       "      <th>tip_pred_linreg</th>\n",
       "      <th>tip_pred_l_lars</th>\n",
       "      <th>tip_pred_glm</th>\n",
       "    </tr>\n",
       "  </thead>\n",
       "  <tbody>\n",
       "    <tr>\n",
       "      <th>224</th>\n",
       "      <td>1.58</td>\n",
       "      <td>2.981096</td>\n",
       "      <td>2.73</td>\n",
       "      <td>2.355143</td>\n",
       "      <td>2.981096</td>\n",
       "      <td>2.404138</td>\n",
       "    </tr>\n",
       "    <tr>\n",
       "      <th>181</th>\n",
       "      <td>5.65</td>\n",
       "      <td>2.981096</td>\n",
       "      <td>2.73</td>\n",
       "      <td>3.105786</td>\n",
       "      <td>2.981096</td>\n",
       "      <td>3.013595</td>\n",
       "    </tr>\n",
       "    <tr>\n",
       "      <th>102</th>\n",
       "      <td>2.50</td>\n",
       "      <td>2.981096</td>\n",
       "      <td>2.73</td>\n",
       "      <td>5.499568</td>\n",
       "      <td>2.981096</td>\n",
       "      <td>5.822219</td>\n",
       "    </tr>\n",
       "    <tr>\n",
       "      <th>164</th>\n",
       "      <td>3.00</td>\n",
       "      <td>2.981096</td>\n",
       "      <td>2.73</td>\n",
       "      <td>2.664944</td>\n",
       "      <td>2.981096</td>\n",
       "      <td>2.639108</td>\n",
       "    </tr>\n",
       "    <tr>\n",
       "      <th>73</th>\n",
       "      <td>5.00</td>\n",
       "      <td>2.981096</td>\n",
       "      <td>2.73</td>\n",
       "      <td>3.253491</td>\n",
       "      <td>2.981096</td>\n",
       "      <td>3.150599</td>\n",
       "    </tr>\n",
       "    <tr>\n",
       "      <th>...</th>\n",
       "      <td>...</td>\n",
       "      <td>...</td>\n",
       "      <td>...</td>\n",
       "      <td>...</td>\n",
       "      <td>...</td>\n",
       "      <td>...</td>\n",
       "    </tr>\n",
       "    <tr>\n",
       "      <th>233</th>\n",
       "      <td>1.47</td>\n",
       "      <td>2.981096</td>\n",
       "      <td>2.73</td>\n",
       "      <td>2.154416</td>\n",
       "      <td>2.981096</td>\n",
       "      <td>2.263185</td>\n",
       "    </tr>\n",
       "    <tr>\n",
       "      <th>6</th>\n",
       "      <td>2.00</td>\n",
       "      <td>2.981096</td>\n",
       "      <td>2.73</td>\n",
       "      <td>2.002924</td>\n",
       "      <td>2.981096</td>\n",
       "      <td>2.162304</td>\n",
       "    </tr>\n",
       "    <tr>\n",
       "      <th>7</th>\n",
       "      <td>3.12</td>\n",
       "      <td>2.981096</td>\n",
       "      <td>2.73</td>\n",
       "      <td>4.107714</td>\n",
       "      <td>2.981096</td>\n",
       "      <td>3.850890</td>\n",
       "    </tr>\n",
       "    <tr>\n",
       "      <th>115</th>\n",
       "      <td>3.50</td>\n",
       "      <td>2.981096</td>\n",
       "      <td>2.73</td>\n",
       "      <td>2.649795</td>\n",
       "      <td>2.981096</td>\n",
       "      <td>2.627101</td>\n",
       "    </tr>\n",
       "    <tr>\n",
       "      <th>166</th>\n",
       "      <td>2.24</td>\n",
       "      <td>2.981096</td>\n",
       "      <td>2.73</td>\n",
       "      <td>2.911119</td>\n",
       "      <td>2.981096</td>\n",
       "      <td>2.842088</td>\n",
       "    </tr>\n",
       "  </tbody>\n",
       "</table>\n",
       "<p>146 rows × 6 columns</p>\n",
       "</div>"
      ],
      "text/plain": [
       "      tip      mean  median  tip_pred_linreg  tip_pred_l_lars  tip_pred_glm\n",
       "224  1.58  2.981096    2.73         2.355143         2.981096      2.404138\n",
       "181  5.65  2.981096    2.73         3.105786         2.981096      3.013595\n",
       "102  2.50  2.981096    2.73         5.499568         2.981096      5.822219\n",
       "164  3.00  2.981096    2.73         2.664944         2.981096      2.639108\n",
       "73   5.00  2.981096    2.73         3.253491         2.981096      3.150599\n",
       "..    ...       ...     ...              ...              ...           ...\n",
       "233  1.47  2.981096    2.73         2.154416         2.981096      2.263185\n",
       "6    2.00  2.981096    2.73         2.002924         2.981096      2.162304\n",
       "7    3.12  2.981096    2.73         4.107714         2.981096      3.850890\n",
       "115  3.50  2.981096    2.73         2.649795         2.981096      2.627101\n",
       "166  2.24  2.981096    2.73         2.911119         2.981096      2.842088\n",
       "\n",
       "[146 rows x 6 columns]"
      ]
     },
     "execution_count": 103,
     "metadata": {},
     "output_type": "execute_result"
    }
   ],
   "source": [
    "y_train"
   ]
  },
  {
   "cell_type": "markdown",
   "metadata": {},
   "source": [
    "# Polynomial Regression\n",
    "Using sklearn.preprocessing.PolynommialFeatures() + sklearn.linear_model.LinearRegression()\n",
    "\n",
    "Create the new features, based on value indicated for degree for train, validate & test.\n",
    "\n",
    "Fit the Linear Regression model\n",
    "\n",
    "Predict using the transformed (squared or cubed, e.g.) features\n",
    "\n",
    "Evaluate using RMSE\n",
    "\n",
    "Repeat predictions and evaluation for validation.\n",
    "\n",
    "Compare RMSE train vs. validation. Overfitting?"
   ]
  },
  {
   "cell_type": "code",
   "execution_count": 104,
   "metadata": {},
   "outputs": [
    {
     "name": "stdout",
     "output_type": "stream",
     "text": [
      "RMSE for Polynomial Model, degrees=2\n",
      "Training/In-Sample:  1.0318755896520801 \n",
      "Validation/Out-of-Sample:  1.1275284327942152\n"
     ]
    }
   ],
   "source": [
    "\n",
    "pf = PolynomialFeatures(degree=2)\n",
    "\n",
    "X_train_degree2 = pf.fit_transform(X_train_scaled)\n",
    "\n",
    "# transform X_validate_scaled & X_test_scaled\n",
    "X_validate_degree2 = pf.transform(X_validate_scaled)\n",
    "X_test_degree2 = pf.transform(X_test_scaled)\n",
    "\n",
    "\n",
    "# create the model object\n",
    "lm2 = LinearRegression()\n",
    "\n",
    "# fit the model to our training data. We must specify the column in y_train, \n",
    "# since we have converted it to a dataframe from a series! \n",
    "lm2.fit(X_train_degree2, y_train.tip)\n",
    "\n",
    "# predict train\n",
    "y_train['tip_pred_lm2'] = lm2.predict(X_train_degree2)\n",
    "\n",
    "y_train\n",
    "\n",
    "# evaluate: rmse\n",
    "rmse_pf_train = mean_squared_error(y_train.tip, y_train.tip_pred_lm2)**(1/2)\n",
    "\n",
    "# predict validate\n",
    "y_validate['tip_pred_lm2'] = lm2.predict(X_validate_degree2)\n",
    "\n",
    "# evaluate: rmse\n",
    "rmse_pf_validate = mean_squared_error(y_validate.tip, y_validate.tip_pred_lm2)**(1/2)\n",
    "\n",
    "print(\"RMSE for Polynomial Model, degrees=2\\nTraining/In-Sample: \", rmse_pf_train, \n",
    "      \"\\nValidation/Out-of-Sample: \", rmse_pf_validate)"
   ]
  },
  {
   "cell_type": "code",
   "execution_count": 105,
   "metadata": {},
   "outputs": [
    {
     "data": {
      "text/html": [
       "<div>\n",
       "<style scoped>\n",
       "    .dataframe tbody tr th:only-of-type {\n",
       "        vertical-align: middle;\n",
       "    }\n",
       "\n",
       "    .dataframe tbody tr th {\n",
       "        vertical-align: top;\n",
       "    }\n",
       "\n",
       "    .dataframe thead th {\n",
       "        text-align: right;\n",
       "    }\n",
       "</style>\n",
       "<table border=\"1\" class=\"dataframe\">\n",
       "  <thead>\n",
       "    <tr style=\"text-align: right;\">\n",
       "      <th></th>\n",
       "      <th>model</th>\n",
       "      <th>rmse_validate</th>\n",
       "      <th>r^2_validate</th>\n",
       "    </tr>\n",
       "  </thead>\n",
       "  <tbody>\n",
       "    <tr>\n",
       "      <th>0</th>\n",
       "      <td>mean_baseline</td>\n",
       "      <td>1.525813</td>\n",
       "      <td>3.330669e-16</td>\n",
       "    </tr>\n",
       "    <tr>\n",
       "      <th>1</th>\n",
       "      <td>OLS lm 1</td>\n",
       "      <td>1.063215</td>\n",
       "      <td>5.507265e-01</td>\n",
       "    </tr>\n",
       "    <tr>\n",
       "      <th>2</th>\n",
       "      <td>Lasso lars 1</td>\n",
       "      <td>1.451105</td>\n",
       "      <td>2.220446e-16</td>\n",
       "    </tr>\n",
       "    <tr>\n",
       "      <th>3</th>\n",
       "      <td>Tweedie 1</td>\n",
       "      <td>1.093702</td>\n",
       "      <td>5.887661e-01</td>\n",
       "    </tr>\n",
       "    <tr>\n",
       "      <th>4</th>\n",
       "      <td>Polynomial Fit 1</td>\n",
       "      <td>1.031876</td>\n",
       "      <td>4.509982e-01</td>\n",
       "    </tr>\n",
       "  </tbody>\n",
       "</table>\n",
       "</div>"
      ],
      "text/plain": [
       "              model  rmse_validate  r^2_validate\n",
       "0     mean_baseline       1.525813  3.330669e-16\n",
       "1          OLS lm 1       1.063215  5.507265e-01\n",
       "2      Lasso lars 1       1.451105  2.220446e-16\n",
       "3         Tweedie 1       1.093702  5.887661e-01\n",
       "4  Polynomial Fit 1       1.031876  4.509982e-01"
      ]
     },
     "execution_count": 105,
     "metadata": {},
     "output_type": "execute_result"
    }
   ],
   "source": [
    "metric_df.loc[len(metric_df.index)] = [\"Polynomial Fit 1\",\n",
    "                                        rmse_pf_train,\n",
    "                                        explained_variance_score(y_validate.tip,y_validate[\"tip_pred_lm2\"])\n",
    "                                    ]\n",
    "\n",
    "metric_df"
   ]
  },
  {
   "cell_type": "markdown",
   "metadata": {},
   "source": [
    "takeaways:\n",
    "linear regression is doing the best,\n",
    "regularization did not have benefitial effects on generalization\n",
    "polynomial regression overfit even at n=1 degree\n",
    "Tweedie had a larger seperation of values from linear regression, concern with overfit, also not a poisson distribution (tips was not time dependant variable)"
   ]
  },
  {
   "cell_type": "markdown",
   "metadata": {},
   "source": [
    "# Evaluate\n",
    "Plotting Actual vs. Predicted Values"
   ]
  },
  {
   "cell_type": "code",
   "execution_count": 106,
   "metadata": {},
   "outputs": [
    {
     "data": {
      "text/html": [
       "<div>\n",
       "<style scoped>\n",
       "    .dataframe tbody tr th:only-of-type {\n",
       "        vertical-align: middle;\n",
       "    }\n",
       "\n",
       "    .dataframe tbody tr th {\n",
       "        vertical-align: top;\n",
       "    }\n",
       "\n",
       "    .dataframe thead th {\n",
       "        text-align: right;\n",
       "    }\n",
       "</style>\n",
       "<table border=\"1\" class=\"dataframe\">\n",
       "  <thead>\n",
       "    <tr style=\"text-align: right;\">\n",
       "      <th></th>\n",
       "      <th>tip</th>\n",
       "      <th>mean</th>\n",
       "      <th>median</th>\n",
       "      <th>tip_pred_linreg</th>\n",
       "      <th>tip_pred_l_lars</th>\n",
       "      <th>tip_pred_glm</th>\n",
       "      <th>tip_pred_lm2</th>\n",
       "    </tr>\n",
       "  </thead>\n",
       "  <tbody>\n",
       "    <tr>\n",
       "      <th>162</th>\n",
       "      <td>2.0</td>\n",
       "      <td>2.981096</td>\n",
       "      <td>2.73</td>\n",
       "      <td>2.861177</td>\n",
       "      <td>2.981096</td>\n",
       "      <td>2.736908</td>\n",
       "      <td>2.78288</td>\n",
       "    </tr>\n",
       "  </tbody>\n",
       "</table>\n",
       "</div>"
      ],
      "text/plain": [
       "     tip      mean  median  tip_pred_linreg  tip_pred_l_lars  tip_pred_glm  \\\n",
       "162  2.0  2.981096    2.73         2.861177         2.981096      2.736908   \n",
       "\n",
       "     tip_pred_lm2  \n",
       "162       2.78288  "
      ]
     },
     "execution_count": 106,
     "metadata": {},
     "output_type": "execute_result"
    }
   ],
   "source": [
    "y_validate.head(1)"
   ]
  },
  {
   "cell_type": "code",
   "execution_count": 107,
   "metadata": {},
   "outputs": [
    {
     "data": {
      "image/png": "[encoded data removed]",
      "text/plain": [
       "<Figure size 1152x576 with 1 Axes>"
      ]
     },
     "metadata": {
      "needs_background": "light"
     },
     "output_type": "display_data"
    }
   ],
   "source": [
    "# y_validate.head()\n",
    "plt.figure(figsize=(16,8))\n",
    "plt.plot(y_validate.tip, y_validate[\"mean\"], alpha=.5, color=\"gray\", label='_nolegend_')\n",
    "plt.annotate(\"Baseline: Predict Using Mean\", (16, 9.5))\n",
    "plt.plot(y_validate.tip, y_validate.tip, alpha=.5, color=\"blue\", label='_nolegend_')\n",
    "plt.annotate(\"The Ideal Line: Predicted = Actual\", (.5, 3.5), rotation=15.5)\n",
    "\n",
    "plt.scatter(y_validate.tip, y_validate.tip_pred_linreg, \n",
    "            alpha=.5, color=\"red\", s=100, label=\"Model: LinearRegression\")\n",
    "plt.scatter(y_validate.tip, y_validate.tip_pred_glm, \n",
    "            alpha=.5, color=\"yellow\", s=100, label=\"Model: TweedieRegressor\")\n",
    "plt.scatter(y_validate.tip, y_validate.tip_pred_lm2, \n",
    "            alpha=.5, color=\"green\", s=100, label=\"Model 2nd degree Polynomial\")\n",
    "plt.legend()\n",
    "plt.xlabel(\"Actual Tip\")\n",
    "plt.ylabel(\"Predicted tip\")\n",
    "plt.title(\"Where are predictions more extreme? More modest?\")\n",
    "# plt.annotate(\"The polynomial model appears to overreact to noise\", (2.0, -10))\n",
    "# plt.annotate(\"The OLS model (LinearRegression)\\n appears to be most consistent\", (15.5, 3))\n",
    "plt.show()"
   ]
  },
  {
   "cell_type": "code",
   "execution_count": 108,
   "metadata": {},
   "outputs": [
    {
     "data": {
      "image/png": "[encoded data removed]",
      "text/plain": [
       "<Figure size 1152x576 with 1 Axes>"
      ]
     },
     "metadata": {
      "needs_background": "light"
     },
     "output_type": "display_data"
    }
   ],
   "source": [
    "# y_validate.head()\n",
    "plt.figure(figsize=(16,8))\n",
    "plt.axhline(label=\"No Error\")\n",
    "plt.scatter(y_validate.tip, y_validate.tip_pred_linreg-y_validate.tip, \n",
    "            alpha=.5, color=\"red\", s=100, label=\"Model: LinearRegression\")\n",
    "plt.scatter(y_validate.tip, y_validate.tip_pred_glm-y_validate.tip, \n",
    "            alpha=.5, color=\"yellow\", s=100, label=\"Model: TweedieRegressor\")\n",
    "plt.scatter(y_validate.tip, y_validate.tip_pred_lm2-y_validate.tip, \n",
    "            alpha=.5, color=\"green\", s=100, label=\"Model 2nd degree Polynomial\")\n",
    "plt.legend()\n",
    "plt.xlabel(\"Actual Tip\")\n",
    "plt.ylabel(\"Residual/Error: Predicted Tip - Actual Tip\")\n",
    "plt.title(\"Where are predictions more extreme? More modest?\")\n",
    "plt.annotate(\"The polynomial model appears to overreact to noise\", (2.0, -10))\n",
    "plt.annotate(\"The OLS model (LinearRegression)\\n appears to be most consistent\", (15.5, 3))\n",
    "plt.show()\n"
   ]
  },
  {
   "cell_type": "code",
   "execution_count": 109,
   "metadata": {},
   "outputs": [
    {
     "data": {
      "image/png": "[encoded data removed]",
      "text/plain": [
       "<Figure size 1152x576 with 1 Axes>"
      ]
     },
     "metadata": {
      "needs_background": "light"
     },
     "output_type": "display_data"
    }
   ],
   "source": [
    "\n",
    "\n",
    "# plot to visualize actual vs predicted. \n",
    "plt.figure(figsize=(16,8))\n",
    "plt.hist(y_validate.tip, color='blue', alpha=.5, label=\"Actual Tips\")\n",
    "plt.hist(y_validate.tip_pred_linreg, color='red', alpha=.5, label=\"Model: LinearRegression\")\n",
    "plt.hist(y_validate.tip_pred_glm, color='yellow', alpha=.5, label=\"Model: TweedieRegressor\")\n",
    "plt.hist(y_validate.tip_pred_lm2, color='green', alpha=.5, label=\"Model 2nd degree Polynomial\")\n",
    "plt.xlabel(\"Final Grade (tip)\")\n",
    "plt.ylabel(\"Count of tips(binned)\")\n",
    "plt.title(\"Comparing the Distribution of Actual tips to Distributions of Predicted tips for the Top Models\")\n",
    "plt.legend()\n",
    "plt.show()\n"
   ]
  },
  {
   "cell_type": "markdown",
   "metadata": {},
   "source": [
    "Model selected: LinearRegression due to low/consisent error values"
   ]
  },
  {
   "cell_type": "code",
   "execution_count": 115,
   "metadata": {},
   "outputs": [
    {
     "name": "stdout",
     "output_type": "stream",
     "text": [
      "RMSE for OLS using LinearRegression\n",
      "Training/train:  1.063214809472265 \n",
      "Validation/:  1.0184993840309196 \n",
      "test/:  0.8182923378215017\n"
     ]
    }
   ],
   "source": [
    "y_test = pd.DataFrame(y_test)\n",
    "y_test[\"tip_pred_linreg\"] = linreg.predict(X_test_scaled)\n",
    "\n",
    "rmse_linreg_test = mean_squared_error(y_test.tip, y_test.tip_pred_linreg)**(1/2)\n",
    "\n",
    "print(\"RMSE for OLS using LinearRegression\\nTraining/train: \", rmse_linreg_train, \n",
    "      \"\\nValidation/: \", rmse_linreg_validate,\n",
    "      \"\\ntest/: \", rmse_linreg_test)"
   ]
  }
 ],
 "metadata": {
  "kernelspec": {
   "display_name": "Python 3.9.12 ('base')",
   "language": "python",
   "name": "python3"
  },
  "language_info": {
   "codemirror_mode": {
    "name": "ipython",
    "version": 3
   },
   "file_extension": ".py",
   "mimetype": "text/x-python",
   "name": "python",
   "nbconvert_exporter": "python",
   "pygments_lexer": "ipython3",
   "version": "3.9.12"
  },
  "orig_nbformat": 4,
  "vscode": {
   "interpreter": {
    "hash": "3067ead486e059ec00ffe7555bdb889e6e264a24dc711bf108106cc7baee8d5d"
   }
  }
 },
 "nbformat": 4,
 "nbformat_minor": 2
}
